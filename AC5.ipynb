{
 "cells": [
  {
   "cell_type": "markdown",
   "metadata": {},
   "source": [
    "# Search algorithms AC5"
   ]
  },
  {
   "cell_type": "markdown",
   "metadata": {},
   "source": [
    "## Imports"
   ]
  },
  {
   "cell_type": "code",
   "execution_count": null,
   "metadata": {},
   "outputs": [],
   "source": [
    "import heapq\n",
    "import json\n",
    "import networkx as nx\n",
    "import matplotlib.pyplot as plt"
   ]
  },
  {
   "cell_type": "markdown",
   "metadata": {},
   "source": [
    "## Data Loads"
   ]
  },
  {
   "cell_type": "code",
   "execution_count": null,
   "metadata": {},
   "outputs": [],
   "source": [
    "with open('2324_GIA04_CA5_Search_data_routes.json', encoding='utf-8') as f:\n",
    "    data = json.load(f)"
   ]
  },
  {
   "cell_type": "markdown",
   "metadata": {},
   "source": [
    "## Graphs functions"
   ]
  },
  {
   "cell_type": "code",
   "execution_count": null,
   "metadata": {},
   "outputs": [],
   "source": [
    "def build_graph(data):\n",
    "    G = nx.DiGraph()\n",
    "\n",
    "    for city in data['cities']:\n",
    "        G.add_node(city['name'], pos=(city['latitude'], city['longitude']))\n",
    "    for connection in data['connections']:\n",
    "        G.add_edge(connection['from'], connection['to'], distance=connection['distance'], duration=connection['duration'])\n",
    "        \n",
    "    return G"
   ]
  },
  {
   "cell_type": "code",
   "execution_count": null,
   "metadata": {},
   "outputs": [],
   "source": [
    "def new_path(origin, start, finish):\n",
    "    \n",
    "    current = finish\n",
    "    path = []\n",
    "\n",
    "    while current != start:\n",
    "        path.append(current)\n",
    "        current = origin[current]\n",
    "        \n",
    "    path.append(start)\n",
    "    path.reverse()\n",
    "\n",
    "    return path"
   ]
  },
  {
   "cell_type": "code",
   "execution_count": null,
   "metadata": {},
   "outputs": [],
   "source": [
    "def visualise_path(graph, path):\n",
    "\n",
    "    pos = nx.get_node_attributes(graph, 'pos')\n",
    "    nx.draw(graph, pos, with_labels=True, node_size=300)\n",
    "    path_edges = list(zip(path, path[1:]))\n",
    "    nx.draw_networkx_edges(graph, pos, edgelist=path_edges, edge_color='r', width=2)\n",
    "    plt.show()"
   ]
  },
  {
   "cell_type": "markdown",
   "metadata": {},
   "source": [
    "## A* Algorithm\n",
    "Find the shortest path from origin to destination"
   ]
  },
  {
   "cell_type": "code",
   "execution_count": null,
   "metadata": {},
   "outputs": [],
   "source": [
    "def cost_cal(next, finish, graph):\n",
    "    \n",
    "    pos = nx.get_node_attributes(graph, 'pos')\n",
    "    return ((pos[next][0] - pos[finish][0])**2 + (pos[next][1] - pos[finish][1])**2)**0.5\n"
   ]
  },
  {
   "cell_type": "code",
   "execution_count": null,
   "metadata": {},
   "outputs": [],
   "source": [
    "def A(graph, start, finish):\n",
    "    \n",
    "    q = []\n",
    "    heapq.heappush(q, (0, start))\n",
    "    origin = {start: None}\n",
    "    cost = {start: 0}\n",
    "\n",
    "    while q:\n",
    "        current = heapq.heappop(q)[1]\n",
    "\n",
    "        if current == finish:\n",
    "            break\n",
    "\n",
    "        for next in graph.neighbors(current):\n",
    "            new_cost = cost[current] + graph[current][next]['distance']\n",
    "\n",
    "            if next not in cost or new_cost < cost[next]:\n",
    "                cost[next] = new_cost\n",
    "                priority = new_cost + cost_cal(next, finish, graph)\n",
    "                heapq.heappush(q, (priority, next))\n",
    "                origin[next] = current\n",
    "\n",
    "    return new_path(origin, start, finish)\n",
    "    "
   ]
  },
  {
   "cell_type": "markdown",
   "metadata": {},
   "source": [
    "## CSP Algorithm\n",
    "Find a path to go from origin to destination respecting a set of restrictions: \n"
   ]
  },
  {
   "cell_type": "markdown",
   "metadata": {},
   "source": [
    "In our case the restrictions are: \n",
    "1) Maximum Total Distance ( The sum of all edges' distances in the path should not exceed this value )\n",
    "2) Maximum Duration per Stage ( No single segment of the journey should take more than this duration )"
   ]
  },
  {
   "cell_type": "code",
   "execution_count": null,
   "metadata": {},
   "outputs": [],
   "source": [
    "def good(graph, path, max_distance, max_duration):\n",
    "    \n",
    "    total_distance = 0\n",
    "\n",
    "    for i in range(len(path) - 1):\n",
    "        edge = graph.get_edge_data(path[i], path[i+1])\n",
    "        if not edge:\n",
    "            return False\n",
    "        if max_duration and edge['duration'] > max_duration:\n",
    "            return False\n",
    "        total_distance += edge['distance']\n",
    "\n",
    "    return max_distance is None or total_distance <= max_distance"
   ]
  },
  {
   "cell_type": "code",
   "execution_count": null,
   "metadata": {},
   "outputs": [],
   "source": [
    "def dfs(graph, current, finish, path, max_distance, max_duration):\n",
    "    \n",
    "    if current == finish:\n",
    "        return path\n",
    "\n",
    "    for next in graph.neighbors(current):\n",
    "        if next not in path:\n",
    "            result = dfs(graph, next, finish, path + [next], max_distance, max_duration)\n",
    "            if result and good(graph, result, max_distance, max_duration):\n",
    "                return result\n",
    "\n",
    "    return None"
   ]
  },
  {
   "cell_type": "code",
   "execution_count": null,
   "metadata": {},
   "outputs": [],
   "source": [
    "def CSP(graph, start, finish, max_distance, max_duration):\n",
    "    return dfs(graph, start, finish, [start], max_distance, max_duration)"
   ]
  },
  {
   "cell_type": "markdown",
   "metadata": {},
   "source": [
    "## Test the algorithms"
   ]
  },
  {
   "cell_type": "code",
   "execution_count": null,
   "metadata": {},
   "outputs": [],
   "source": [
    "graph = build_graph(data)\n",
    "\n",
    "start = 'Barcelona'\n",
    "finish = 'Vic'\n",
    "\n",
    "# Check if the city exists\n",
    "if start not in graph.nodes or finish not in graph.nodes:\n",
    "    print(\"City not found in the dataset\")\n",
    "else:\n",
    "    path_A = A(graph, start, finish)\n",
    "    print(f\"Path found by A* algorithm: {path_A}\")\n",
    "    #divite the total distance by 1000 to get the distance in km and the total duration by 100 to get the duration in minutes\n",
    "    print(f\"Total distance: {sum(graph[path_A[i]][path_A[i+1]]['distance'] for i in range(len(path_A) - 1)) / 1000} km\")\n",
    "    print(f\"Total duration: {sum(graph[path_A[i]][path_A[i+1]]['duration'] for i in range(len(path_A) - 1)) / 100 } minutes\")\n",
    "\n",
    "    visualise_path(graph, path_A)\n",
    "\n",
    "    # if one of the copnditions is wished to not be taken into account - set the value of it to None\n",
    "\n",
    "    path_CSP = CSP(graph, start, finish, 80000, 3000) # ex: no more than 80 km and 50 minutes\n",
    "    if path_CSP:\n",
    "        print(f\"Path found by CSP algorithm: {path_CSP}\")\n",
    "        print(f\"Total distance: {sum(graph[path_CSP[i]][path_CSP[i+1]]['distance'] for i in range(len(path_CSP) - 1)) / 1000} km\")\n",
    "        print(f\"Total duration: {sum(graph[path_CSP[i]][path_CSP[i+1]]['duration'] for i in range(len(path_CSP) - 1)) / 100 } minutes\")\n",
    "        visualise_path(graph, path_CSP)\n",
    "    else:\n",
    "        print(\"No path found by CSP algorithm that satisfies the constraints.\")\n",
    "\n"
   ]
  }
 ],
 "metadata": {
  "kernelspec": {
   "display_name": "Python 3",
   "language": "python",
   "name": "python3"
  },
  "language_info": {
   "codemirror_mode": {
    "name": "ipython",
    "version": 3
   },
   "file_extension": ".py",
   "mimetype": "text/x-python",
   "name": "python",
   "nbconvert_exporter": "python",
   "pygments_lexer": "ipython3",
   "version": "3.11.9"
  }
 },
 "nbformat": 4,
 "nbformat_minor": 2
}
